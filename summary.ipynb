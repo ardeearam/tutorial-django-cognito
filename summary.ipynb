{
 "cells": [
  {
   "cell_type": "code",
   "execution_count": null,
   "id": "24400df1",
   "metadata": {},
   "outputs": [],
   "source": [
    "mkdir -p tutorial-django-lambda\n",
    "cd tutorial-django-lambda\n",
    "python3 -m venv venv\n",
    "source venv/bin/activate"
   ]
  },
  {
   "cell_type": "code",
   "execution_count": null,
   "id": "672275fe",
   "metadata": {},
   "outputs": [],
   "source": [
    "pip install django authlib\n",
    "pip freeze > requirements.txt"
   ]
  },
  {
   "cell_type": "code",
   "execution_count": null,
   "id": "34aae5a3",
   "metadata": {},
   "outputs": [],
   "source": [
    "django-admin startproject app .\n",
    "python manage.py runserver  #Visit http://127.0.0.1:8000/"
   ]
  },
  {
   "cell_type": "markdown",
   "id": "0ba7bf32",
   "metadata": {},
   "source": [
    "#Code modifications:\n",
    "# app/views.py - Create\n",
    "# Add app/templates/app/index.html \n",
    "# app/urls.py - Map URLS to view\n",
    "# app/settings.py\n",
    "#   add \"app\" to INSTALLED_APPS\n",
    "#   add AUTHLIB_OAUTH_CLIENTS"
   ]
  }
 ],
 "metadata": {
  "kernelspec": {
   "display_name": "Python 3",
   "language": "python",
   "name": "python3"
  },
  "language_info": {
   "codemirror_mode": {
    "name": "ipython",
    "version": 3
   },
   "file_extension": ".py",
   "mimetype": "text/x-python",
   "name": "python",
   "nbconvert_exporter": "python",
   "pygments_lexer": "ipython3",
   "version": "3.12.8"
  }
 },
 "nbformat": 4,
 "nbformat_minor": 5
}
